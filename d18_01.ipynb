{
  "nbformat": 4,
  "nbformat_minor": 0,
  "metadata": {
    "colab": {
      "name": "d18_01.ipynb",
      "provenance": [],
      "collapsed_sections": [],
      "include_colab_link": true
    },
    "kernelspec": {
      "name": "python3",
      "display_name": "Python 3"
    },
    "language_info": {
      "name": "python"
    }
  },
  "cells": [
    {
      "cell_type": "markdown",
      "metadata": {
        "id": "view-in-github",
        "colab_type": "text"
      },
      "source": [
        "<a href=\"https://colab.research.google.com/github/hyunjung930/Deep-learning_Studying/blob/hyunjung/d18_01.ipynb\" target=\"_parent\"><img src=\"https://colab.research.google.com/assets/colab-badge.svg\" alt=\"Open In Colab\"/></a>"
      ]
    },
    {
      "cell_type": "code",
      "execution_count": null,
      "metadata": {
        "colab": {
          "base_uri": "https://localhost:8080/"
        },
        "id": "b19iHqJsjOpN",
        "outputId": "9e8a4711-1480-4c56-954a-dc2201181527"
      },
      "outputs": [
        {
          "output_type": "stream",
          "name": "stdout",
          "text": [
            "Drive already mounted at /content/drive; to attempt to forcibly remount, call drive.mount(\"/content/drive\", force_remount=True).\n",
            "tf.__version__: 2.8.0\n",
            "keras.__version__: 2.8.0\n"
          ]
        }
      ],
      "source": [
        "%run my_init.py"
      ]
    },
    {
      "cell_type": "code",
      "source": [
        "%matplotlib inline"
      ],
      "metadata": {
        "id": "nkGcyxmvjgyM"
      },
      "execution_count": null,
      "outputs": []
    },
    {
      "cell_type": "code",
      "source": [
        "from keras.datasets import imdb\n",
        "\n",
        "(train_input, train_target), (test_input, test_target) = imdb.load_data(num_words=500)"
      ],
      "metadata": {
        "id": "IMS-crq30-ha",
        "colab": {
          "base_uri": "https://localhost:8080/"
        },
        "outputId": "4e289bae-8acf-4ad4-f40b-66f6c9302473"
      },
      "execution_count": null,
      "outputs": [
        {
          "output_type": "stream",
          "name": "stdout",
          "text": [
            "Downloading data from https://storage.googleapis.com/tensorflow/tf-keras-datasets/imdb.npz\n",
            "17465344/17464789 [==============================] - 0s 0us/step\n",
            "17473536/17464789 [==============================] - 0s 0us/step\n"
          ]
        }
      ]
    },
    {
      "cell_type": "code",
      "source": [
        "train_input.shape, test_input.shape"
      ],
      "metadata": {
        "colab": {
          "base_uri": "https://localhost:8080/"
        },
        "id": "r9WGtHxR1Acv",
        "outputId": "d9427096-d532-4313-e797-e095200f459e"
      },
      "execution_count": null,
      "outputs": [
        {
          "output_type": "execute_result",
          "data": {
            "text/plain": [
              "((25000,), (25000,))"
            ]
          },
          "metadata": {},
          "execution_count": 5
        }
      ]
    },
    {
      "cell_type": "code",
      "source": [
        "len(train_input[0])"
      ],
      "metadata": {
        "colab": {
          "base_uri": "https://localhost:8080/"
        },
        "id": "eX2-mCEt1N4U",
        "outputId": "7eb2540d-fcc0-4f89-c541-4e7babbdb2d4"
      },
      "execution_count": null,
      "outputs": [
        {
          "output_type": "execute_result",
          "data": {
            "text/plain": [
              "218"
            ]
          },
          "metadata": {},
          "execution_count": 6
        }
      ]
    },
    {
      "cell_type": "code",
      "source": [
        "len(train_input[1])"
      ],
      "metadata": {
        "colab": {
          "base_uri": "https://localhost:8080/"
        },
        "id": "NRhvtf_X1RE6",
        "outputId": "7dbce02e-0085-4382-a34e-3879a66bee63"
      },
      "execution_count": null,
      "outputs": [
        {
          "output_type": "execute_result",
          "data": {
            "text/plain": [
              "189"
            ]
          },
          "metadata": {},
          "execution_count": 7
        }
      ]
    },
    {
      "cell_type": "code",
      "source": [
        "print(train_input[0])"
      ],
      "metadata": {
        "colab": {
          "base_uri": "https://localhost:8080/"
        },
        "id": "nOFuioNY1bi_",
        "outputId": "1578972e-69a5-4174-d668-597ec347fe05"
      },
      "execution_count": null,
      "outputs": [
        {
          "output_type": "stream",
          "name": "stdout",
          "text": [
            "[1, 14, 22, 16, 43, 2, 2, 2, 2, 65, 458, 2, 66, 2, 4, 173, 36, 256, 5, 25, 100, 43, 2, 112, 50, 2, 2, 9, 35, 480, 284, 5, 150, 4, 172, 112, 167, 2, 336, 385, 39, 4, 172, 2, 2, 17, 2, 38, 13, 447, 4, 192, 50, 16, 6, 147, 2, 19, 14, 22, 4, 2, 2, 469, 4, 22, 71, 87, 12, 16, 43, 2, 38, 76, 15, 13, 2, 4, 22, 17, 2, 17, 12, 16, 2, 18, 2, 5, 62, 386, 12, 8, 316, 8, 106, 5, 4, 2, 2, 16, 480, 66, 2, 33, 4, 130, 12, 16, 38, 2, 5, 25, 124, 51, 36, 135, 48, 25, 2, 33, 6, 22, 12, 215, 28, 77, 52, 5, 14, 407, 16, 82, 2, 8, 4, 107, 117, 2, 15, 256, 4, 2, 7, 2, 5, 2, 36, 71, 43, 2, 476, 26, 400, 317, 46, 7, 4, 2, 2, 13, 104, 88, 4, 381, 15, 297, 98, 32, 2, 56, 26, 141, 6, 194, 2, 18, 4, 226, 22, 21, 134, 476, 26, 480, 5, 144, 30, 2, 18, 51, 36, 28, 224, 92, 25, 104, 4, 226, 65, 16, 38, 2, 88, 12, 16, 283, 5, 16, 2, 113, 103, 32, 15, 16, 2, 19, 178, 32]\n"
          ]
        }
      ]
    },
    {
      "cell_type": "code",
      "source": [
        "train_target[:20]"
      ],
      "metadata": {
        "colab": {
          "base_uri": "https://localhost:8080/"
        },
        "id": "D7lS-KGK1g6y",
        "outputId": "b0bf292d-9a83-4143-abd4-0be6c7dd7fc0"
      },
      "execution_count": null,
      "outputs": [
        {
          "output_type": "execute_result",
          "data": {
            "text/plain": [
              "array([1, 0, 0, 1, 0, 0, 1, 0, 1, 0, 1, 0, 0, 0, 0, 0, 1, 1, 0, 1])"
            ]
          },
          "metadata": {},
          "execution_count": 9
        }
      ]
    },
    {
      "cell_type": "code",
      "source": [
        "train_input, val_input, train_target, val_target = train_test_split(\n",
        "    train_input, train_target, test_size=0.2, random_state=42)"
      ],
      "metadata": {
        "id": "30rny1-l1xzf"
      },
      "execution_count": null,
      "outputs": []
    },
    {
      "cell_type": "code",
      "source": [
        "train_input.shape"
      ],
      "metadata": {
        "colab": {
          "base_uri": "https://localhost:8080/"
        },
        "id": "vHmkYfBZ10WL",
        "outputId": "ed3ca45c-2ced-4749-a124-5d184fcc54ec"
      },
      "execution_count": null,
      "outputs": [
        {
          "output_type": "execute_result",
          "data": {
            "text/plain": [
              "(20000,)"
            ]
          },
          "metadata": {},
          "execution_count": 11
        }
      ]
    },
    {
      "cell_type": "code",
      "source": [
        "lengths = [len(x) for x in train_input]\n",
        "lengths[:10]"
      ],
      "metadata": {
        "colab": {
          "base_uri": "https://localhost:8080/"
        },
        "id": "i9w-Vntg2L3_",
        "outputId": "c5af62d1-573f-40b2-fdc9-18683761bd52"
      },
      "execution_count": null,
      "outputs": [
        {
          "output_type": "execute_result",
          "data": {
            "text/plain": [
              "[259, 520, 290, 109, 559, 96, 130, 935, 383, 716]"
            ]
          },
          "metadata": {},
          "execution_count": 12
        }
      ]
    },
    {
      "cell_type": "code",
      "source": [
        "np.mean(lengths), np.median(lengths)"
      ],
      "metadata": {
        "colab": {
          "base_uri": "https://localhost:8080/"
        },
        "id": "sNooY1Fy2OJ_",
        "outputId": "ad95ed2d-32a7-46d3-efd6-6f07529802e0"
      },
      "execution_count": null,
      "outputs": [
        {
          "output_type": "execute_result",
          "data": {
            "text/plain": [
              "(239.00925, 178.0)"
            ]
          },
          "metadata": {},
          "execution_count": 13
        }
      ]
    },
    {
      "cell_type": "code",
      "source": [
        "plt.hist(lengths)\n",
        "plt.xlabel('length')\n",
        "plt.ylabel('frequency')\n",
        "plt.show()  "
      ],
      "metadata": {
        "colab": {
          "base_uri": "https://localhost:8080/",
          "height": 279
        },
        "id": "D3hl0eSp2hOj",
        "outputId": "4160898e-1281-4179-a441-311880cde311"
      },
      "execution_count": null,
      "outputs": [
        {
          "output_type": "display_data",
          "data": {
            "text/plain": [
              "<Figure size 432x288 with 1 Axes>"
            ],
            "image/png": "[encoded data removed]"
          },
          "metadata": {
            "needs_background": "light"
          }
        }
      ]
    },
    {
      "cell_type": "code",
      "source": [
        "from keras.preprocessing.sequence import pad_sequences\n",
        "\n",
        "train_seq = pad_sequences(train_input, maxlen=100)"
      ],
      "metadata": {
        "id": "SxRv5VgM2-Pj"
      },
      "execution_count": null,
      "outputs": []
    },
    {
      "cell_type": "code",
      "source": [
        "train_seq.shape"
      ],
      "metadata": {
        "colab": {
          "base_uri": "https://localhost:8080/"
        },
        "id": "11hsqcrV2-7L",
        "outputId": "db79d953-0420-4870-9773-703e59e139ec"
      },
      "execution_count": null,
      "outputs": [
        {
          "output_type": "execute_result",
          "data": {
            "text/plain": [
              "(20000, 100)"
            ]
          },
          "metadata": {},
          "execution_count": 16
        }
      ]
    },
    {
      "cell_type": "code",
      "source": [
        "train_seq[0]"
      ],
      "metadata": {
        "colab": {
          "base_uri": "https://localhost:8080/"
        },
        "id": "3eUkPFE33YeO",
        "outputId": "c5b7c97a-c437-4f0c-d680-7a6d4a1b93cc"
      },
      "execution_count": null,
      "outputs": [
        {
          "output_type": "execute_result",
          "data": {
            "text/plain": [
              "array([ 10,   4,  20,   9,   2, 364, 352,   5,  45,   6,   2,   2,  33,\n",
              "       269,   8,   2, 142,   2,   5,   2,  17,  73,  17, 204,   5,   2,\n",
              "        19,  55,   2,   2,  92,  66, 104,  14,  20,  93,  76,   2, 151,\n",
              "        33,   4,  58,  12, 188,   2, 151,  12, 215,  69, 224, 142,  73,\n",
              "       237,   6,   2,   7,   2,   2, 188,   2, 103,  14,  31,  10,  10,\n",
              "       451,   7,   2,   5,   2,  80,  91,   2,  30,   2,  34,  14,  20,\n",
              "       151,  50,  26, 131,  49,   2,  84,  46,  50,  37,  80,  79,   6,\n",
              "         2,  46,   7,  14,  20,  10,  10, 470, 158], dtype=int32)"
            ]
          },
          "metadata": {},
          "execution_count": 17
        }
      ]
    },
    {
      "cell_type": "code",
      "source": [
        "train_seq[5]"
      ],
      "metadata": {
        "colab": {
          "base_uri": "https://localhost:8080/"
        },
        "id": "CUBJ4YLO3ZGi",
        "outputId": "25f0224e-6795-4995-ec4f-312351e77ea8"
      },
      "execution_count": null,
      "outputs": [
        {
          "output_type": "execute_result",
          "data": {
            "text/plain": [
              "array([  0,   0,   0,   0,   1,   2, 195,  19,  49,   2,   2, 190,   4,\n",
              "         2, 352,   2, 183,  10,  10,  13,  82,  79,   4,   2,  36,  71,\n",
              "       269,   8,   2,  25,  19,  49,   7,   4,   2,   2,   2,   2,   2,\n",
              "        10,  10,  48,  25,  40,   2,  11,   2,   2,  40,   2,   2,   5,\n",
              "         4,   2,   2,  95,  14, 238,  56, 129,   2,  10,  10,  21,   2,\n",
              "        94, 364, 352,   2,   2,  11, 190,  24, 484,   2,   7,  94, 205,\n",
              "       405,  10,  10,  87,   2,  34,  49,   2,   7,   2,   2,   2,   2,\n",
              "         2, 290,   2,  46,  48,  64,  18,   4,   2], dtype=int32)"
            ]
          },
          "metadata": {},
          "execution_count": 18
        }
      ]
    },
    {
      "cell_type": "code",
      "source": [
        "val_seq = pad_sequences(val_input, maxlen=100)\n",
        "val_seq.shape"
      ],
      "metadata": {
        "colab": {
          "base_uri": "https://localhost:8080/"
        },
        "id": "B-e4q9NL3k-T",
        "outputId": "7ee08430-371c-44d1-fe2c-06c54751423d"
      },
      "execution_count": null,
      "outputs": [
        {
          "output_type": "execute_result",
          "data": {
            "text/plain": [
              "(5000, 100)"
            ]
          },
          "metadata": {},
          "execution_count": 19
        }
      ]
    },
    {
      "cell_type": "code",
      "source": [
        "train_oh = keras.utils.to_categorical(train_seq)\n",
        "train_oh.shape"
      ],
      "metadata": {
        "colab": {
          "base_uri": "https://localhost:8080/"
        },
        "id": "e3ydHc4l4ebf",
        "outputId": "61542399-eb34-49a1-a6dc-bc7712cc3a49"
      },
      "execution_count": null,
      "outputs": [
        {
          "output_type": "execute_result",
          "data": {
            "text/plain": [
              "(20000, 100, 500)"
            ]
          },
          "metadata": {},
          "execution_count": 20
        }
      ]
    },
    {
      "cell_type": "code",
      "source": [
        "train_oh[0, 0, :12]"
      ],
      "metadata": {
        "colab": {
          "base_uri": "https://localhost:8080/"
        },
        "id": "f29Ibq3m5B3P",
        "outputId": "cf6a9789-9770-4f8f-b787-47bd291d8303"
      },
      "execution_count": null,
      "outputs": [
        {
          "output_type": "execute_result",
          "data": {
            "text/plain": [
              "array([0., 0., 0., 0., 0., 0., 0., 0., 0., 0., 1., 0.], dtype=float32)"
            ]
          },
          "metadata": {},
          "execution_count": 21
        }
      ]
    },
    {
      "cell_type": "code",
      "source": [
        "train_oh[0, 1, :12]"
      ],
      "metadata": {
        "colab": {
          "base_uri": "https://localhost:8080/"
        },
        "id": "--Es95_K5rAy",
        "outputId": "99e98737-fd83-4df1-81f2-446ef8c4514b"
      },
      "execution_count": null,
      "outputs": [
        {
          "output_type": "execute_result",
          "data": {
            "text/plain": [
              "array([0., 0., 0., 0., 1., 0., 0., 0., 0., 0., 0., 0.], dtype=float32)"
            ]
          },
          "metadata": {},
          "execution_count": 22
        }
      ]
    },
    {
      "cell_type": "code",
      "source": [
        "train_oh[0, 99, :12]"
      ],
      "metadata": {
        "colab": {
          "base_uri": "https://localhost:8080/"
        },
        "id": "oHHue8jr5sr9",
        "outputId": "70e1d145-a164-4244-b35e-00d43b86ff24"
      },
      "execution_count": null,
      "outputs": [
        {
          "output_type": "execute_result",
          "data": {
            "text/plain": [
              "array([0., 0., 0., 0., 0., 0., 0., 0., 0., 0., 0., 0.], dtype=float32)"
            ]
          },
          "metadata": {},
          "execution_count": 23
        }
      ]
    },
    {
      "cell_type": "code",
      "source": [
        "val_oh = keras.utils.to_categorical(val_seq)\n",
        "val_oh.shape"
      ],
      "metadata": {
        "colab": {
          "base_uri": "https://localhost:8080/"
        },
        "id": "f2NCfAF946zl",
        "outputId": "aa6dc7ba-cdfc-41dd-e39e-062a5f4f635a"
      },
      "execution_count": null,
      "outputs": [
        {
          "output_type": "execute_result",
          "data": {
            "text/plain": [
              "(5000, 100, 500)"
            ]
          },
          "metadata": {},
          "execution_count": 24
        }
      ]
    },
    {
      "cell_type": "code",
      "source": [
        "#model = keras.Sequential()\n",
        "\n",
        "#model.add(keras.layers.SimpleRNN(8, input_shape=(100, 500)))\n",
        "#model.add(keras.layers.Dense(1, activation='sigmoid'))"
      ],
      "metadata": {
        "id": "n_lC_9I46UUE"
      },
      "execution_count": null,
      "outputs": []
    },
    {
      "cell_type": "code",
      "source": [
        "#model.summary()"
      ],
      "metadata": {
        "id": "bJEQ9hfV6Wzy"
      },
      "execution_count": null,
      "outputs": []
    },
    {
      "cell_type": "code",
      "source": [
        "#rmsprop = keras.optimizers.RMSprop(learning_rate=1e-4)"
      ],
      "metadata": {
        "id": "hngsspUClpAs"
      },
      "execution_count": null,
      "outputs": []
    },
    {
      "cell_type": "code",
      "source": [
        "#model.compile(optimizer=rmsprop, loss='binary_crossentropy', \n",
        "#              metrics=['accuracy'])"
      ],
      "metadata": {
        "id": "0YoYTM-pl-9j"
      },
      "execution_count": null,
      "outputs": []
    },
    {
      "cell_type": "code",
      "source": [
        "#checkpoint_cb = keras.callbacks.ModelCheckpoint('best-simplernn-model.h5')\n",
        "#early_stopping_cb = keras.callbacks.EarlyStopping(patience=3,\n",
        "#                                                  restore_best_weights=True)"
      ],
      "metadata": {
        "id": "ZDBnoBe1n1gr"
      },
      "execution_count": null,
      "outputs": []
    },
    {
      "cell_type": "code",
      "source": [
        "#history = model.fit(train_oh, train_target, epochs=100, batch_size=64,\n",
        "#                    validation_data=(val_oh, val_target),\n",
        "#                    callbacks=[checkpoint_cb, early_stopping_cb])"
      ],
      "metadata": {
        "id": "3QxAXm5eoKzU"
      },
      "execution_count": null,
      "outputs": []
    },
    {
      "cell_type": "code",
      "source": [
        "#plt.plot(history.history['loss'])\n",
        "#plt.plot(history.history['val_loss'])\n",
        "#plt.xlabel('epoch')\n",
        "#plt.ylabel('loss')\n",
        "#plt.legend(['train', 'val'])\n",
        "#plt.show()"
      ],
      "metadata": {
        "id": "FhZwHZIq2VW7"
      },
      "execution_count": null,
      "outputs": []
    },
    {
      "cell_type": "code",
      "source": [
        "model = keras.Sequential()\n",
        "\n",
        "model.add(keras.layers.SimpleRNN(8, dropout=0.3, return_sequences=True, input_shape=(100, 500), name=\"rnn_1\"))\n",
        "model.add(keras.layers.SimpleRNN(8, dropout=0.3, name='rnn_2'))\n",
        "model.add(keras.layers.Dense(1, activation='sigmoid', name='output'))"
      ],
      "metadata": {
        "id": "5KN50GY92vxv"
      },
      "execution_count": null,
      "outputs": []
    },
    {
      "cell_type": "code",
      "source": [
        "model.summary()"
      ],
      "metadata": {
        "id": "TtE6fmaG4Yl5",
        "colab": {
          "base_uri": "https://localhost:8080/"
        },
        "outputId": "2c58c37b-6138-46b8-e0c2-bf6a3cc5f52e"
      },
      "execution_count": null,
      "outputs": [
        {
          "output_type": "stream",
          "name": "stdout",
          "text": [
            "Model: \"sequential\"\n",
            "_________________________________________________________________\n",
            " Layer (type)                Output Shape              Param #   \n",
            "=================================================================\n",
            " rnn_1 (SimpleRNN)           (None, 100, 8)            4072      \n",
            "                                                                 \n",
            " rnn_2 (SimpleRNN)           (None, 8)                 136       \n",
            "                                                                 \n",
            " output (Dense)              (None, 1)                 9         \n",
            "                                                                 \n",
            "=================================================================\n",
            "Total params: 4,217\n",
            "Trainable params: 4,217\n",
            "Non-trainable params: 0\n",
            "_________________________________________________________________\n"
          ]
        }
      ]
    },
    {
      "cell_type": "code",
      "source": [
        "rmsprop = keras.optimizers.RMSprop(learning_rate=1e-4)"
      ],
      "metadata": {
        "id": "NaV29-3B43RU"
      },
      "execution_count": null,
      "outputs": []
    },
    {
      "cell_type": "code",
      "source": [
        "model.compile(optimizer=rmsprop, loss='binary_crossentropy', \n",
        "              metrics=['accuracy'])"
      ],
      "metadata": {
        "id": "VnMz_2rJ4-j0"
      },
      "execution_count": null,
      "outputs": []
    },
    {
      "cell_type": "code",
      "source": [
        "checkpoint_cb = keras.callbacks.ModelCheckpoint('best-simplernn2-model.h5')\n",
        "early_stopping_cb = keras.callbacks.EarlyStopping(patience=3,\n",
        "                                                  restore_best_weights=True)"
      ],
      "metadata": {
        "id": "WUBS5kHv5Etq"
      },
      "execution_count": null,
      "outputs": []
    },
    {
      "cell_type": "code",
      "source": [
        "history = model.fit(train_oh, train_target, epochs=100, batch_size=64,\n",
        "                    validation_data=(val_oh, val_target),\n",
        "                    callbacks=[checkpoint_cb, early_stopping_cb])"
      ],
      "metadata": {
        "id": "tOng0CQ05KoQ",
        "colab": {
          "base_uri": "https://localhost:8080/"
        },
        "outputId": "1ff321b5-f4e2-4a60-c7a1-53df5d3316d1"
      },
      "execution_count": null,
      "outputs": [
        {
          "output_type": "stream",
          "name": "stdout",
          "text": [
            "Epoch 1/100\n",
            "313/313 [==============================] - 36s 107ms/step - loss: 0.7097 - accuracy: 0.4949 - val_loss: 0.7029 - val_accuracy: 0.4946\n",
            "Epoch 2/100\n",
            "313/313 [==============================] - 32s 103ms/step - loss: 0.7029 - accuracy: 0.5009 - val_loss: 0.6988 - val_accuracy: 0.5014\n",
            "Epoch 3/100\n",
            "313/313 [==============================] - 32s 101ms/step - loss: 0.7001 - accuracy: 0.5027 - val_loss: 0.6966 - val_accuracy: 0.5010\n",
            "Epoch 4/100\n",
            "313/313 [==============================] - 31s 100ms/step - loss: 0.6985 - accuracy: 0.5023 - val_loss: 0.6954 - val_accuracy: 0.5012\n",
            "Epoch 5/100\n",
            "313/313 [==============================] - 31s 100ms/step - loss: 0.6965 - accuracy: 0.5137 - val_loss: 0.6943 - val_accuracy: 0.5074\n",
            "Epoch 6/100\n",
            "313/313 [==============================] - 31s 100ms/step - loss: 0.6948 - accuracy: 0.5142 - val_loss: 0.6931 - val_accuracy: 0.5150\n",
            "Epoch 7/100\n",
            "313/313 [==============================] - 34s 109ms/step - loss: 0.6937 - accuracy: 0.5140 - val_loss: 0.6926 - val_accuracy: 0.5200\n",
            "Epoch 8/100\n",
            "313/313 [==============================] - 33s 104ms/step - loss: 0.6932 - accuracy: 0.5170 - val_loss: 0.6915 - val_accuracy: 0.5264\n",
            "Epoch 9/100\n",
            "313/313 [==============================] - 32s 101ms/step - loss: 0.6914 - accuracy: 0.5239 - val_loss: 0.6907 - val_accuracy: 0.5254\n",
            "Epoch 10/100\n",
            "313/313 [==============================] - 32s 101ms/step - loss: 0.6904 - accuracy: 0.5286 - val_loss: 0.6894 - val_accuracy: 0.5338\n",
            "Epoch 11/100\n",
            "313/313 [==============================] - 32s 101ms/step - loss: 0.6893 - accuracy: 0.5338 - val_loss: 0.6880 - val_accuracy: 0.5388\n",
            "Epoch 12/100\n",
            "313/313 [==============================] - 31s 99ms/step - loss: 0.6884 - accuracy: 0.5411 - val_loss: 0.6850 - val_accuracy: 0.5536\n",
            "Epoch 13/100\n",
            "313/313 [==============================] - 31s 101ms/step - loss: 0.6854 - accuracy: 0.5465 - val_loss: 0.6819 - val_accuracy: 0.5686\n",
            "Epoch 14/100\n",
            "313/313 [==============================] - 31s 100ms/step - loss: 0.6816 - accuracy: 0.5670 - val_loss: 0.6717 - val_accuracy: 0.6070\n",
            "Epoch 15/100\n",
            "313/313 [==============================] - 31s 100ms/step - loss: 0.6752 - accuracy: 0.5827 - val_loss: 0.6524 - val_accuracy: 0.6400\n",
            "Epoch 16/100\n",
            "313/313 [==============================] - 31s 98ms/step - loss: 0.6634 - accuracy: 0.6077 - val_loss: 0.6570 - val_accuracy: 0.6076\n",
            "Epoch 17/100\n",
            "313/313 [==============================] - 31s 100ms/step - loss: 0.6554 - accuracy: 0.6214 - val_loss: 0.6412 - val_accuracy: 0.6432\n",
            "Epoch 18/100\n",
            "313/313 [==============================] - 31s 101ms/step - loss: 0.6482 - accuracy: 0.6331 - val_loss: 0.6357 - val_accuracy: 0.6496\n",
            "Epoch 19/100\n",
            "313/313 [==============================] - 31s 100ms/step - loss: 0.6410 - accuracy: 0.6453 - val_loss: 0.6413 - val_accuracy: 0.6330\n",
            "Epoch 20/100\n",
            "313/313 [==============================] - 31s 99ms/step - loss: 0.6353 - accuracy: 0.6485 - val_loss: 0.6267 - val_accuracy: 0.6566\n",
            "Epoch 21/100\n",
            "313/313 [==============================] - 31s 100ms/step - loss: 0.6287 - accuracy: 0.6603 - val_loss: 0.6131 - val_accuracy: 0.6798\n",
            "Epoch 22/100\n",
            "313/313 [==============================] - 32s 101ms/step - loss: 0.6226 - accuracy: 0.6668 - val_loss: 0.6122 - val_accuracy: 0.6776\n",
            "Epoch 23/100\n",
            "313/313 [==============================] - 31s 98ms/step - loss: 0.6176 - accuracy: 0.6724 - val_loss: 0.6113 - val_accuracy: 0.6712\n",
            "Epoch 24/100\n",
            "313/313 [==============================] - 31s 99ms/step - loss: 0.6118 - accuracy: 0.6783 - val_loss: 0.6048 - val_accuracy: 0.6812\n",
            "Epoch 25/100\n",
            "313/313 [==============================] - 31s 99ms/step - loss: 0.6073 - accuracy: 0.6813 - val_loss: 0.5956 - val_accuracy: 0.6932\n",
            "Epoch 26/100\n",
            "313/313 [==============================] - 32s 101ms/step - loss: 0.6019 - accuracy: 0.6876 - val_loss: 0.5955 - val_accuracy: 0.6886\n",
            "Epoch 27/100\n",
            "313/313 [==============================] - 32s 102ms/step - loss: 0.5942 - accuracy: 0.6955 - val_loss: 0.5868 - val_accuracy: 0.7004\n",
            "Epoch 28/100\n",
            "313/313 [==============================] - 32s 103ms/step - loss: 0.5942 - accuracy: 0.6950 - val_loss: 0.5748 - val_accuracy: 0.7122\n",
            "Epoch 29/100\n",
            "313/313 [==============================] - 32s 102ms/step - loss: 0.5930 - accuracy: 0.6936 - val_loss: 0.5737 - val_accuracy: 0.7120\n",
            "Epoch 30/100\n",
            "313/313 [==============================] - 31s 99ms/step - loss: 0.5889 - accuracy: 0.6985 - val_loss: 0.5769 - val_accuracy: 0.7082\n",
            "Epoch 31/100\n",
            "313/313 [==============================] - 31s 100ms/step - loss: 0.5862 - accuracy: 0.6995 - val_loss: 0.5581 - val_accuracy: 0.7304\n",
            "Epoch 32/100\n",
            "313/313 [==============================] - 31s 101ms/step - loss: 0.5814 - accuracy: 0.7042 - val_loss: 0.5578 - val_accuracy: 0.7266\n",
            "Epoch 33/100\n",
            "313/313 [==============================] - 31s 99ms/step - loss: 0.5764 - accuracy: 0.7085 - val_loss: 0.5664 - val_accuracy: 0.7158\n",
            "Epoch 34/100\n",
            "313/313 [==============================] - 32s 103ms/step - loss: 0.5759 - accuracy: 0.7096 - val_loss: 0.5561 - val_accuracy: 0.7272\n",
            "Epoch 35/100\n",
            "313/313 [==============================] - 31s 100ms/step - loss: 0.5710 - accuracy: 0.7121 - val_loss: 0.5582 - val_accuracy: 0.7244\n",
            "Epoch 36/100\n",
            "313/313 [==============================] - 32s 102ms/step - loss: 0.5693 - accuracy: 0.7153 - val_loss: 0.5573 - val_accuracy: 0.7226\n",
            "Epoch 37/100\n",
            "313/313 [==============================] - 31s 99ms/step - loss: 0.5648 - accuracy: 0.7196 - val_loss: 0.5490 - val_accuracy: 0.7320\n",
            "Epoch 38/100\n",
            "313/313 [==============================] - 31s 99ms/step - loss: 0.5632 - accuracy: 0.7211 - val_loss: 0.5563 - val_accuracy: 0.7248\n",
            "Epoch 39/100\n",
            "313/313 [==============================] - 31s 99ms/step - loss: 0.5614 - accuracy: 0.7236 - val_loss: 0.5447 - val_accuracy: 0.7370\n",
            "Epoch 40/100\n",
            "313/313 [==============================] - 32s 101ms/step - loss: 0.5635 - accuracy: 0.7200 - val_loss: 0.5387 - val_accuracy: 0.7394\n",
            "Epoch 41/100\n",
            "313/313 [==============================] - 31s 99ms/step - loss: 0.5621 - accuracy: 0.7203 - val_loss: 0.5364 - val_accuracy: 0.7434\n",
            "Epoch 42/100\n",
            "313/313 [==============================] - 32s 101ms/step - loss: 0.5620 - accuracy: 0.7206 - val_loss: 0.5421 - val_accuracy: 0.7368\n",
            "Epoch 43/100\n",
            "313/313 [==============================] - 31s 99ms/step - loss: 0.5586 - accuracy: 0.7226 - val_loss: 0.5404 - val_accuracy: 0.7360\n",
            "Epoch 44/100\n",
            "313/313 [==============================] - 31s 100ms/step - loss: 0.5565 - accuracy: 0.7239 - val_loss: 0.5325 - val_accuracy: 0.7444\n",
            "Epoch 45/100\n",
            "313/313 [==============================] - 31s 100ms/step - loss: 0.5507 - accuracy: 0.7313 - val_loss: 0.5302 - val_accuracy: 0.7452\n",
            "Epoch 46/100\n",
            "313/313 [==============================] - 31s 99ms/step - loss: 0.5519 - accuracy: 0.7293 - val_loss: 0.5355 - val_accuracy: 0.7404\n",
            "Epoch 47/100\n",
            "313/313 [==============================] - 31s 99ms/step - loss: 0.5493 - accuracy: 0.7340 - val_loss: 0.5388 - val_accuracy: 0.7406\n",
            "Epoch 48/100\n",
            "313/313 [==============================] - 31s 100ms/step - loss: 0.5487 - accuracy: 0.7312 - val_loss: 0.5282 - val_accuracy: 0.7474\n",
            "Epoch 49/100\n",
            "313/313 [==============================] - 31s 100ms/step - loss: 0.5505 - accuracy: 0.7300 - val_loss: 0.5280 - val_accuracy: 0.7480\n",
            "Epoch 50/100\n",
            "313/313 [==============================] - 32s 101ms/step - loss: 0.5491 - accuracy: 0.7303 - val_loss: 0.5255 - val_accuracy: 0.7478\n",
            "Epoch 51/100\n",
            "313/313 [==============================] - 31s 99ms/step - loss: 0.5464 - accuracy: 0.7345 - val_loss: 0.5270 - val_accuracy: 0.7472\n",
            "Epoch 52/100\n",
            "313/313 [==============================] - 31s 100ms/step - loss: 0.5411 - accuracy: 0.7384 - val_loss: 0.5257 - val_accuracy: 0.7500\n",
            "Epoch 53/100\n",
            "313/313 [==============================] - 31s 100ms/step - loss: 0.5417 - accuracy: 0.7362 - val_loss: 0.5235 - val_accuracy: 0.7510\n",
            "Epoch 54/100\n",
            "313/313 [==============================] - 31s 99ms/step - loss: 0.5393 - accuracy: 0.7418 - val_loss: 0.5480 - val_accuracy: 0.7302\n",
            "Epoch 55/100\n",
            "313/313 [==============================] - 31s 101ms/step - loss: 0.5398 - accuracy: 0.7384 - val_loss: 0.5170 - val_accuracy: 0.7552\n",
            "Epoch 56/100\n",
            "313/313 [==============================] - 31s 100ms/step - loss: 0.5387 - accuracy: 0.7387 - val_loss: 0.5202 - val_accuracy: 0.7540\n",
            "Epoch 57/100\n",
            "313/313 [==============================] - 31s 100ms/step - loss: 0.5385 - accuracy: 0.7401 - val_loss: 0.5152 - val_accuracy: 0.7558\n",
            "Epoch 58/100\n",
            "313/313 [==============================] - 31s 99ms/step - loss: 0.5348 - accuracy: 0.7434 - val_loss: 0.5185 - val_accuracy: 0.7536\n",
            "Epoch 59/100\n",
            "313/313 [==============================] - 31s 100ms/step - loss: 0.5342 - accuracy: 0.7416 - val_loss: 0.5141 - val_accuracy: 0.7580\n",
            "Epoch 60/100\n",
            "313/313 [==============================] - 32s 102ms/step - loss: 0.5333 - accuracy: 0.7447 - val_loss: 0.5111 - val_accuracy: 0.7568\n",
            "Epoch 61/100\n",
            "313/313 [==============================] - 31s 99ms/step - loss: 0.5312 - accuracy: 0.7465 - val_loss: 0.5125 - val_accuracy: 0.7578\n",
            "Epoch 62/100\n",
            "313/313 [==============================] - 32s 102ms/step - loss: 0.5307 - accuracy: 0.7445 - val_loss: 0.5127 - val_accuracy: 0.7574\n",
            "Epoch 63/100\n",
            "313/313 [==============================] - 31s 100ms/step - loss: 0.5316 - accuracy: 0.7468 - val_loss: 0.5064 - val_accuracy: 0.7620\n",
            "Epoch 64/100\n",
            "313/313 [==============================] - 31s 99ms/step - loss: 0.5275 - accuracy: 0.7462 - val_loss: 0.5088 - val_accuracy: 0.7602\n",
            "Epoch 65/100\n",
            "313/313 [==============================] - 32s 101ms/step - loss: 0.5279 - accuracy: 0.7474 - val_loss: 0.5061 - val_accuracy: 0.7636\n",
            "Epoch 66/100\n",
            "313/313 [==============================] - 32s 101ms/step - loss: 0.5284 - accuracy: 0.7473 - val_loss: 0.5188 - val_accuracy: 0.7516\n",
            "Epoch 67/100\n",
            "313/313 [==============================] - 32s 101ms/step - loss: 0.5246 - accuracy: 0.7470 - val_loss: 0.5046 - val_accuracy: 0.7614\n",
            "Epoch 68/100\n",
            "313/313 [==============================] - 32s 102ms/step - loss: 0.5227 - accuracy: 0.7504 - val_loss: 0.5034 - val_accuracy: 0.7638\n",
            "Epoch 69/100\n",
            "313/313 [==============================] - 32s 103ms/step - loss: 0.5212 - accuracy: 0.7528 - val_loss: 0.5009 - val_accuracy: 0.7670\n",
            "Epoch 70/100\n",
            "313/313 [==============================] - 31s 101ms/step - loss: 0.5195 - accuracy: 0.7520 - val_loss: 0.5022 - val_accuracy: 0.7662\n",
            "Epoch 71/100\n",
            "313/313 [==============================] - 35s 113ms/step - loss: 0.5207 - accuracy: 0.7509 - val_loss: 0.4959 - val_accuracy: 0.7706\n",
            "Epoch 72/100\n",
            "313/313 [==============================] - 34s 107ms/step - loss: 0.5179 - accuracy: 0.7541 - val_loss: 0.4931 - val_accuracy: 0.7714\n",
            "Epoch 73/100\n",
            "313/313 [==============================] - 33s 106ms/step - loss: 0.5214 - accuracy: 0.7495 - val_loss: 0.4921 - val_accuracy: 0.7710\n",
            "Epoch 74/100\n",
            "313/313 [==============================] - 34s 107ms/step - loss: 0.5174 - accuracy: 0.7538 - val_loss: 0.4929 - val_accuracy: 0.7716\n",
            "Epoch 75/100\n",
            "313/313 [==============================] - 32s 104ms/step - loss: 0.5145 - accuracy: 0.7566 - val_loss: 0.4885 - val_accuracy: 0.7718\n",
            "Epoch 76/100\n",
            "313/313 [==============================] - 32s 102ms/step - loss: 0.5135 - accuracy: 0.7559 - val_loss: 0.4849 - val_accuracy: 0.7738\n",
            "Epoch 77/100\n",
            "313/313 [==============================] - 33s 107ms/step - loss: 0.5097 - accuracy: 0.7602 - val_loss: 0.4825 - val_accuracy: 0.7770\n",
            "Epoch 78/100\n",
            "313/313 [==============================] - 33s 106ms/step - loss: 0.5105 - accuracy: 0.7573 - val_loss: 0.4818 - val_accuracy: 0.7756\n",
            "Epoch 79/100\n",
            "313/313 [==============================] - 34s 109ms/step - loss: 0.5086 - accuracy: 0.7607 - val_loss: 0.4820 - val_accuracy: 0.7770\n",
            "Epoch 80/100\n",
            "313/313 [==============================] - 35s 112ms/step - loss: 0.5061 - accuracy: 0.7614 - val_loss: 0.4811 - val_accuracy: 0.7770\n",
            "Epoch 81/100\n",
            "313/313 [==============================] - 33s 105ms/step - loss: 0.5025 - accuracy: 0.7628 - val_loss: 0.4780 - val_accuracy: 0.7802\n",
            "Epoch 82/100\n",
            "313/313 [==============================] - 34s 109ms/step - loss: 0.4995 - accuracy: 0.7658 - val_loss: 0.5052 - val_accuracy: 0.7588\n",
            "Epoch 83/100\n",
            "313/313 [==============================] - 34s 108ms/step - loss: 0.4991 - accuracy: 0.7660 - val_loss: 0.4766 - val_accuracy: 0.7770\n",
            "Epoch 84/100\n",
            "313/313 [==============================] - 33s 107ms/step - loss: 0.4977 - accuracy: 0.7667 - val_loss: 0.4720 - val_accuracy: 0.7832\n",
            "Epoch 85/100\n",
            "313/313 [==============================] - 34s 108ms/step - loss: 0.4940 - accuracy: 0.7703 - val_loss: 0.4731 - val_accuracy: 0.7796\n",
            "Epoch 86/100\n",
            "313/313 [==============================] - 34s 109ms/step - loss: 0.4941 - accuracy: 0.7667 - val_loss: 0.4674 - val_accuracy: 0.7888\n",
            "Epoch 87/100\n",
            "313/313 [==============================] - 34s 110ms/step - loss: 0.4920 - accuracy: 0.7693 - val_loss: 0.4651 - val_accuracy: 0.7880\n",
            "Epoch 88/100\n",
            "313/313 [==============================] - 34s 109ms/step - loss: 0.4945 - accuracy: 0.7676 - val_loss: 0.4665 - val_accuracy: 0.7870\n",
            "Epoch 89/100\n",
            "313/313 [==============================] - 33s 104ms/step - loss: 0.4877 - accuracy: 0.7707 - val_loss: 0.4639 - val_accuracy: 0.7858\n",
            "Epoch 90/100\n",
            "313/313 [==============================] - 33s 106ms/step - loss: 0.4876 - accuracy: 0.7743 - val_loss: 0.4573 - val_accuracy: 0.7910\n",
            "Epoch 91/100\n",
            "313/313 [==============================] - 33s 107ms/step - loss: 0.4839 - accuracy: 0.7758 - val_loss: 0.4563 - val_accuracy: 0.7884\n",
            "Epoch 92/100\n",
            "313/313 [==============================] - 35s 110ms/step - loss: 0.4838 - accuracy: 0.7737 - val_loss: 0.4528 - val_accuracy: 0.7932\n",
            "Epoch 93/100\n",
            "313/313 [==============================] - 33s 105ms/step - loss: 0.4840 - accuracy: 0.7707 - val_loss: 0.4539 - val_accuracy: 0.7908\n",
            "Epoch 94/100\n",
            "313/313 [==============================] - 33s 105ms/step - loss: 0.4822 - accuracy: 0.7749 - val_loss: 0.4489 - val_accuracy: 0.7954\n",
            "Epoch 95/100\n",
            "313/313 [==============================] - 32s 104ms/step - loss: 0.4820 - accuracy: 0.7708 - val_loss: 0.4554 - val_accuracy: 0.7896\n",
            "Epoch 96/100\n",
            "313/313 [==============================] - 33s 107ms/step - loss: 0.4795 - accuracy: 0.7764 - val_loss: 0.4493 - val_accuracy: 0.7942\n",
            "Epoch 97/100\n",
            "313/313 [==============================] - 33s 104ms/step - loss: 0.4781 - accuracy: 0.7746 - val_loss: 0.4462 - val_accuracy: 0.7968\n",
            "Epoch 98/100\n",
            "313/313 [==============================] - 33s 104ms/step - loss: 0.4756 - accuracy: 0.7759 - val_loss: 0.4438 - val_accuracy: 0.7964\n",
            "Epoch 99/100\n",
            "313/313 [==============================] - 32s 101ms/step - loss: 0.4726 - accuracy: 0.7765 - val_loss: 0.4473 - val_accuracy: 0.7952\n",
            "Epoch 100/100\n",
            "313/313 [==============================] - 32s 102ms/step - loss: 0.4738 - accuracy: 0.7770 - val_loss: 0.4441 - val_accuracy: 0.8030\n"
          ]
        }
      ]
    },
    {
      "cell_type": "code",
      "source": [
        "plt.plot(history.history['loss'])\n",
        "plt.plot(history.history['val_loss'])\n",
        "plt.xlabel('epoch')\n",
        "plt.ylabel('loss')\n",
        "plt.legend(['train', 'val'])\n",
        "plt.show()"
      ],
      "metadata": {
        "id": "RRLnSxPp5SsF",
        "colab": {
          "base_uri": "https://localhost:8080/",
          "height": 279
        },
        "outputId": "2aa065a7-faa8-4956-e383-79c2b8b382ec"
      },
      "execution_count": null,
      "outputs": [
        {
          "output_type": "display_data",
          "data": {
            "text/plain": [
              "<Figure size 432x288 with 1 Axes>"
            ],
            "image/png": "[encoded data removed]"
          },
          "metadata": {
            "needs_background": "light"
          }
        }
      ]
    }
  ]
}