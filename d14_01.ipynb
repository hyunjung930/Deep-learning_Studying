{
  "nbformat": 4,
  "nbformat_minor": 0,
  "metadata": {
    "colab": {
      "name": "d14_01.ipynb",
      "provenance": [],
      "collapsed_sections": [],
      "include_colab_link": true
    },
    "kernelspec": {
      "name": "python3",
      "display_name": "Python 3"
    },
    "language_info": {
      "name": "python"
    },
    "accelerator": "GPU"
  },
  "cells": [
    {
      "cell_type": "markdown",
      "metadata": {
        "id": "view-in-github",
        "colab_type": "text"
      },
      "source": [
        "<a href=\"https://colab.research.google.com/github/hyunjung930/Deep-learning_Studying/blob/hyunjung/d14_01.ipynb\" target=\"_parent\"><img src=\"https://colab.research.google.com/assets/colab-badge.svg\" alt=\"Open In Colab\"/></a>"
      ]
    },
    {
      "cell_type": "code",
      "execution_count": null,
      "metadata": {
        "colab": {
          "base_uri": "https://localhost:8080/"
        },
        "id": "Hy8wE8KoFsfe",
        "outputId": "c39f8a7d-1127-4cc0-d1a6-383415e96c16"
      },
      "outputs": [
        {
          "output_type": "stream",
          "name": "stdout",
          "text": [
            "Mounted at /content/drive\n"
          ]
        }
      ],
      "source": [
        "%run my_init.py"
      ]
    },
    {
      "cell_type": "code",
      "source": [
        "%matplotlib inline"
      ],
      "metadata": {
        "id": "A6IQN5oosLWy"
      },
      "execution_count": null,
      "outputs": []
    },
    {
      "cell_type": "code",
      "source": [
        "from tensorflow import keras\n",
        "\n",
        "(X_train, y_train), (X_test, y_test) = keras.datasets.fashion_mnist.load_data()"
      ],
      "metadata": {
        "id": "3oZ5qk3-sSYK"
      },
      "execution_count": null,
      "outputs": []
    },
    {
      "cell_type": "code",
      "source": [
        "X_train_scaled = (X_train / 255.0)\n",
        "X_train_scaled.shape"
      ],
      "metadata": {
        "colab": {
          "base_uri": "https://localhost:8080/"
        },
        "id": "k-JmutHUzrUY",
        "outputId": "7e142f31-6f20-4410-d366-59c088e44893"
      },
      "execution_count": null,
      "outputs": [
        {
          "output_type": "execute_result",
          "data": {
            "text/plain": [
              "(60000, 28, 28)"
            ]
          },
          "metadata": {},
          "execution_count": 19
        }
      ]
    },
    {
      "cell_type": "code",
      "source": [
        "from sklearn.model_selection import train_test_split\n",
        "\n",
        "X_train_scaled, X_val_scaled, y_train, y_val = \\\n",
        "  train_test_split(X_train_scaled, y_train, test_size=0.2, random_state=42)\n",
        "X_train_scaled.shape, X_val_scaled.shape, y_train.shape, y_val.shape"
      ],
      "metadata": {
        "colab": {
          "base_uri": "https://localhost:8080/"
        },
        "id": "bjaQF_t8k58R",
        "outputId": "e7c582f8-408f-4e90-f68c-d888048d05e1"
      },
      "execution_count": null,
      "outputs": [
        {
          "output_type": "execute_result",
          "data": {
            "text/plain": [
              "((48000, 28, 28), (12000, 28, 28), (48000,), (12000,))"
            ]
          },
          "metadata": {},
          "execution_count": 20
        }
      ]
    },
    {
      "cell_type": "code",
      "source": [
        "def model_fn(a_layer=None):\n",
        "  model = keras.Sequential(name=\"fashion_mnist_model\")\n",
        "  model.add(keras.layers.Flatten(input_shape=(28, 28), name=\"input\"))\n",
        "  model.add(keras.layers.Dense(100, activation='relu', name=\"hidden_1\"))\n",
        "  if a_layer:\n",
        "    model.add(a_layer)\n",
        "  model.add(keras.layers.Dense(10, activation='softmax', name=\"output\"))\n",
        "  return model"
      ],
      "metadata": {
        "id": "1Uy9ONUfhzUu"
      },
      "execution_count": null,
      "outputs": []
    },
    {
      "cell_type": "code",
      "source": [
        "def model_fn2(*layers):\n",
        "  model = keras.Sequential(name=\"fashion_mnist_model\")\n",
        "  model.add(keras.layers.Flatten(input_shape=(28, 28), name=\"input\"))\n",
        "  model.add(keras.layers.Dense(100, activation='relu', name=\"hidden_1\"))\n",
        "  for layer in layers:\n",
        "    model.add(layer)\n",
        "  model.add(keras.layers.Dense(10, activation='softmax', name=\"output\"))\n",
        "  return model"
      ],
      "metadata": {
        "id": "VJxKcfFV4Ysx"
      },
      "execution_count": null,
      "outputs": []
    },
    {
      "cell_type": "code",
      "source": [
        "model = model_fn2()"
      ],
      "metadata": {
        "id": "U75XPl4Z5PBV"
      },
      "execution_count": null,
      "outputs": []
    },
    {
      "cell_type": "code",
      "source": [
        "model.summary()"
      ],
      "metadata": {
        "colab": {
          "base_uri": "https://localhost:8080/"
        },
        "id": "JEt1ySKn5X2E",
        "outputId": "8cd0246b-5da8-4868-cf12-d0b6bc1cd182"
      },
      "execution_count": null,
      "outputs": [
        {
          "output_type": "stream",
          "name": "stdout",
          "text": [
            "Model: \"fashion_mnist_model\"\n",
            "_________________________________________________________________\n",
            " Layer (type)                Output Shape              Param #   \n",
            "=================================================================\n",
            " input (Flatten)             (None, 784)               0         \n",
            "                                                                 \n",
            " hidden_1 (Dense)            (None, 100)               78500     \n",
            "                                                                 \n",
            " output (Dense)              (None, 10)                1010      \n",
            "                                                                 \n",
            "=================================================================\n",
            "Total params: 79,510\n",
            "Trainable params: 79,510\n",
            "Non-trainable params: 0\n",
            "_________________________________________________________________\n"
          ]
        }
      ]
    },
    {
      "cell_type": "code",
      "source": [
        "model.compile(optimizer= 'adam', loss =\"sparse_categorical_crossentropy\", metrics=['accuracy'])\n",
        "history = model.fit(X_train_scaled, y_train, epochs = 20, verbose =0, \\\n",
        "                    validation_data = (X_val_scaled, y_val))\n",
        "plt.plot(history.history['loss'])\n",
        "plt.plot(history.history['val_loss'])\n",
        "plt.xlabel('epoch')\n",
        "plt.ylabel('loss')\n",
        "plt.legend(['train','val'])\n",
        "plt.show()"
      ],
      "metadata": {
        "colab": {
          "base_uri": "https://localhost:8080/",
          "height": 279
        },
        "id": "7MZHc5DtuMtE",
        "outputId": "27cfbc3c-28c7-4bc0-f29b-6dfde3b441b0"
      },
      "execution_count": null,
      "outputs": [
        {
          "output_type": "display_data",
          "data": {
            "text/plain": [
              "<Figure size 432x288 with 1 Axes>"
            ],
            "image/png": "[encoded data removed]"
          },
          "metadata": {
            "needs_background": "light"
          }
        }
      ]
    },
    {
      "cell_type": "code",
      "source": [
        "model = model_fn2(keras.layers.Dropout(0,3))\n",
        "model.summary()"
      ],
      "metadata": {
        "colab": {
          "base_uri": "https://localhost:8080/"
        },
        "id": "lda8RKzkuMyJ",
        "outputId": "0a8bfd66-aaf7-4fe5-908c-c997220f3026"
      },
      "execution_count": null,
      "outputs": [
        {
          "output_type": "stream",
          "name": "stdout",
          "text": [
            "Model: \"fashion_mnist_model\"\n",
            "_________________________________________________________________\n",
            " Layer (type)                Output Shape              Param #   \n",
            "=================================================================\n",
            " input (Flatten)             (None, 784)               0         \n",
            "                                                                 \n",
            " hidden_1 (Dense)            (None, 100)               78500     \n",
            "                                                                 \n",
            " dropout (Dropout)           (None, 100)               0         \n",
            "                                                                 \n",
            " output (Dense)              (None, 10)                1010      \n",
            "                                                                 \n",
            "=================================================================\n",
            "Total params: 79,510\n",
            "Trainable params: 79,510\n",
            "Non-trainable params: 0\n",
            "_________________________________________________________________\n"
          ]
        }
      ]
    },
    {
      "cell_type": "code",
      "source": [
        "model.compile(optimizer= 'adam', loss =\"sparse_categorical_crossentropy\", metrics=['accuracy'])\n",
        "history = model.fit(X_train_scaled, y_train, epochs = 20, verbose =0, \\\n",
        "                    validation_data = (X_val_scaled, y_val))\n",
        "\n",
        "plt.plot(history.history['loss'])\n",
        "plt.plot(history.history['val_loss'])\n",
        "plt.xlabel('epoch')\n",
        "plt.ylabel('loss')\n",
        "plt.legend(['train','val'])\n",
        "plt.show()"
      ],
      "metadata": {
        "id": "BPA6lET8uM4C"
      },
      "execution_count": null,
      "outputs": []
    },
    {
      "cell_type": "code",
      "source": [
        "for rate in p[]\n",
        "model = model_fn2(keras.layers.Dropout(0,3))"
      ],
      "metadata": {
        "id": "cxOhZFICuM9P"
      },
      "execution_count": null,
      "outputs": []
    },
    {
      "cell_type": "code",
      "source": [
        "fig, axes = plt.subplots(rates.size, 1, figsize=(8,12))\n",
        "for i, ax enumerate(axes):\n",
        "  ax.plot(histories[i],history['loss'])\n",
        "  ax.plot(histories[i],history['val_loss'])\n",
        "  ax.set_title(f\"dropout rate: {rates[i]: .1f}\")\n",
        "  ax.set_xlabel('epoch')\n",
        "  ax.set_ylabel('loss')\n",
        "  ax,legend(['train','val'])\n",
        "plt.tight_layout()\n",
        "plt.show()"
      ],
      "metadata": {
        "id": "Pg8pgpZ8uNBw"
      },
      "execution_count": null,
      "outputs": []
    },
    {
      "cell_type": "code",
      "source": [
        "models, histories = [], []\n",
        "rates = np.arange(0.0, 0.5, 0.1)\n",
        "for rate in rates:\n",
        "  model = model_fn2(keras.layers.Dropout(0.3))\n",
        "  model.compile(optimizer='adam', loss = \"sparse_categorical_crossentropy\", metrics=['accuracy'])\n",
        "  history = model.fit(X_train_scaled, y_train, epochs=20, verbose=0, \\\n",
        "                    validation_data = (X_val_scaled, y_val))\n",
        "  models.append(model)\n",
        "  histories.append(history)"
      ],
      "metadata": {
        "id": "tTy6kDLD1P7V"
      },
      "execution_count": null,
      "outputs": []
    },
    {
      "cell_type": "code",
      "source": [
        "model = model_fn2(keras.layers.Dense(10, activaion='relu'))\n",
        "model.compile(optimizer='adam', loss = \"sparse_categorical_crossentropy\", metrics = 'accuracy')\n",
        "history = model.fit(X_train_)"
      ],
      "metadata": {
        "id": "YMM3tO3r-0sl"
      },
      "execution_count": null,
      "outputs": []
    }
  ]
}